{
 "cells": [
  {
   "cell_type": "markdown",
   "id": "0ee8c1af-376b-4a88-9d80-a993acf9a70f",
   "metadata": {
    "jp-MarkdownHeadingCollapsed": true
   },
   "source": [
    "# Time comparisons beetween normal code and GPU accelarated code for the calculation of a posteriori for a normal likelihood with a fixed variance and a normal prior for the mean"
   ]
  },
  {
   "cell_type": "markdown",
   "id": "ea774c73-c640-4564-a6ae-867e0f6ecc61",
   "metadata": {
    "jp-MarkdownHeadingCollapsed": true
   },
   "source": [
    "## Data"
   ]
  },
  {
   "cell_type": "code",
   "execution_count": 2,
   "id": "f004d83d-e2cb-46d8-ab2f-8b09d38515bf",
   "metadata": {},
   "outputs": [
    {
     "data": {
      "image/png": "[encoded data removed]",
      "text/plain": [
       "<Figure size 640x480 with 1 Axes>"
      ]
     },
     "metadata": {},
     "output_type": "display_data"
    }
   ],
   "source": [
    "from numba import cuda, float32\n",
    "import numpy as np\n",
    "import math\n",
    "from numba import cuda, float32\n",
    "import matplotlib.pyplot as plt\n",
    "import numpy as np\n",
    "np.random.seed(10)\n",
    "\n",
    "# data and parameters used in both functions\n",
    "\n",
    "num_particles = 2048 # Number of particles\n",
    "sigma = np.float64(2.0)    # Known standard deviation of the data\n",
    "\n",
    "# Initialize particles and weights\n",
    "prior_mu = np.float64(0.0); prior_sigma = np.float64(3.0)   # Prior mean and standard deviation\n",
    "particles = np.random.normal(prior_mu, prior_sigma, num_particles).astype(np.float64)  # Sample from the prior distribution\n",
    "\n",
    "# Generate synthetic data\n",
    "true_mu = np.float64(5.0); sigma = np.float64(2.0)    # Known mean and standard deviation of the data\n",
    "n_data = 32     # Number of data points\n",
    "data = np.array(np.random.normal(true_mu, sigma, n_data),dtype=np.float64)\n",
    "\n",
    "###################\n",
    "# CUDA parameters #\n",
    "threads = 246\n",
    "blocks = 8\n",
    "# -----------\n",
    "# CUDA arrays\n",
    "d_data = cuda.to_device(np.array(data,dtype=np.float64))\n",
    "d_particles = cuda.to_device(np.array(particles ,dtype = np.float64))\n",
    "d_out = cuda.device_array_like(d_particles)\n",
    "# -----------\n",
    "###################\n",
    "\n",
    "# Create a histogram\n",
    "plt.hist(data, bins=30, color='blue', edgecolor='black')\n",
    "\n",
    "# Add labels and title\n",
    "plt.xlabel('Value')\n",
    "plt.ylabel('Frequency')\n",
    "plt.title('Histogram of Random Data')\n",
    "\n",
    "# Show the plot\n",
    "plt.show()"
   ]
  },
  {
   "cell_type": "markdown",
   "id": "493afa69-03d1-4fcb-b498-0e94d36b3c51",
   "metadata": {
    "jp-MarkdownHeadingCollapsed": true
   },
   "source": [
    "## Cuda numba code (posterior calc) errado"
   ]
  },
  {
   "cell_type": "code",
   "execution_count": 1,
   "id": "0d074523-b298-4c8b-8634-048d3516a539",
   "metadata": {},
   "outputs": [],
   "source": [
    "from numba import cuda, float32\n",
    "import numpy as np\n",
    "import math\n",
    "from numba import cuda, float32\n",
    "np.random.seed(10)\n",
    "\n",
    "# Leave the values in this cell fixed for this exercise\n",
    "n = 1024\n",
    "prior_mu = (np.random.normal(0, 3,n)).astype(np.float32)\n",
    "data = (np.random.normal(5, 2,n)).astype(np.float32)\n",
    "\n",
    "d_mu = cuda.to_device(np.array(prior_mu,dtype=np.float32))\n",
    "d_data = cuda.to_device(np.array(data,dtype=np.float32))\n",
    "d_out = cuda.device_array_like(d_mu)"
   ]
  },
  {
   "cell_type": "code",
   "execution_count": 2,
   "id": "1a29ef1d-e9f1-48aa-8357-25b7e171b771",
   "metadata": {},
   "outputs": [],
   "source": [
    "@cuda.jit\n",
    "def posterior_calc(prior_mu,data,out):\n",
    "    start = cuda.grid(1)\n",
    "    stride = cuda.gridsize(1)\n",
    "\n",
    "    likelihood = cuda.shared.array(shape=(1,),dtype = float32)\n",
    "    prior_d_mu = cuda.shared.array(shape=(1,),dtype = float32)\n",
    "    sum_part = cuda.shared.array(shape=(n,),dtype = float32)\n",
    "    \n",
    "    value = cuda.shared.array(shape=(1,),dtype = float32)\n",
    "\n",
    "    for i in range(start,data.shape[0],stride):\n",
    "        value = (data[i]-prior_mu[start])**2\n",
    "        cuda.atomic.add(sum_part, start, value)\n",
    "    \n",
    "    # prior distributions\n",
    "    prior_d_mu[0] = ( 1/(math.sqrt(2*math.pi*(3))) )*math.exp( -(prior_mu[start]-0)/2*3 )\n",
    "\n",
    "    # likelihood fucntion\n",
    "    likelihood[0] = ((1/math.sqrt(2*math.pi*(2)))**data.shape[0])*math.exp((1/(2*(2))) * sum_part[start]) \n",
    "\n",
    "    out[start] = likelihood[0] * prior_d_mu[0]\n"
   ]
  },
  {
   "cell_type": "code",
   "execution_count": 3,
   "id": "708d6d07-10f4-4274-81be-795b27dd4951",
   "metadata": {},
   "outputs": [
    {
     "name": "stderr",
     "output_type": "stream",
     "text": [
      "/home/erick/miniconda3/envs/rapids-25.02/lib/python3.12/site-packages/numba_cuda/numba/cuda/dispatcher.py:579: NumbaPerformanceWarning: \u001b[1mGrid size 8 will likely result in GPU under-utilization due to low occupancy.\u001b[0m\n",
      "  warn(NumbaPerformanceWarning(msg))\n"
     ]
    },
    {
     "name": "stdout",
     "output_type": "stream",
     "text": [
      "The slowest run took 8573.10 times longer than the fastest. This could mean that an intermediate result is being cached.\n",
      "8.42 ms ± 82.1 ms per loop (mean ± std. dev. of 100 runs, 1 loop each)\n"
     ]
    }
   ],
   "source": [
    "np.random.seed(10)\n",
    "threads = 128\n",
    "blocks = 8\n",
    "\n",
    "%timeit -n 1 -r 100 posterior_calc[blocks, threads](d_mu,d_data,d_out) ; cuda.synchronize()"
   ]
  },
  {
   "cell_type": "code",
   "execution_count": 6,
   "id": "5a4f3cef-e906-403d-adda-1271f8cab72d",
   "metadata": {},
   "outputs": [
    {
     "name": "stdout",
     "output_type": "stream",
     "text": [
      "1024\n"
     ]
    }
   ],
   "source": [
    "d_out.copy_to_host()\n",
    "print(n)"
   ]
  },
  {
   "cell_type": "markdown",
   "id": "533ed427-49e8-456e-9020-da348abf3b00",
   "metadata": {
    "jp-MarkdownHeadingCollapsed": true
   },
   "source": [
    "## Normal code (posterior calc) errado"
   ]
  },
  {
   "cell_type": "code",
   "execution_count": 18,
   "id": "94a89f6c-67f0-42ba-aec2-681db6ff25b8",
   "metadata": {},
   "outputs": [],
   "source": [
    "np.random.seed(10)\n",
    "from numba import cuda, float32\n",
    "import numpy as np\n",
    "import math\n",
    "from numba import cuda, float32\n",
    "np.random.seed(10)\n",
    "\n",
    "# Leave the values in this cell fixed for this exercise\n",
    "n = 1024\n",
    "prior_mu = (np.random.normal(0, 3,n)).astype(np.float32)\n",
    "data = (np.random.normal(5, 2,n)).astype(np.float32)"
   ]
  },
  {
   "cell_type": "code",
   "execution_count": 19,
   "id": "d4944b11-220a-40a7-a8a8-0ea2b26694c9",
   "metadata": {},
   "outputs": [],
   "source": [
    "np.random.seed(10)\n",
    "def posterior_calc(prior_mu,data):\n",
    "\n",
    "    out = np.zeros(data.shape[0])\n",
    "    for prior in range(0,data.shape[0]):\n",
    "        sum_part = 0 \n",
    "        for i in range(0,data.shape[0]):\n",
    "            value = (data[i]-prior_mu[prior])**2\n",
    "            sum_part += value\n",
    "    \n",
    "        # prior distributions\n",
    "        prior_d_mu = np.float64( ( 1/(np.sqrt(2*math.pi*(3))) )*np.exp( -(prior_mu[prior]-0)/2*3 ) ) \n",
    "    \n",
    "        # likelihood fucntion\n",
    "        likelihood = np.float64( ((1/np.sqrt(2*np.pi*(2)))**data.shape[0]) * np.exp((1/(2*(2))) * sum_part) )\n",
    "    \n",
    "        out[prior] = likelihood * prior_d_mu \n",
    "\n",
    "    return out"
   ]
  },
  {
   "cell_type": "code",
   "execution_count": 23,
   "id": "a68c73ce-2f49-49de-b488-f6b17b58674f",
   "metadata": {},
   "outputs": [
    {
     "name": "stderr",
     "output_type": "stream",
     "text": [
      "/tmp/ipykernel_2465/2806725920.py:15: RuntimeWarning: overflow encountered in exp\n",
      "  likelihood = np.float64( ((1/np.sqrt(2*np.pi*(2)))**data.shape[0]) * np.exp((1/(2*(2))) * sum_part) )\n",
      "/tmp/ipykernel_2465/2806725920.py:15: RuntimeWarning: invalid value encountered in scalar multiply\n",
      "  likelihood = np.float64( ((1/np.sqrt(2*np.pi*(2)))**data.shape[0]) * np.exp((1/(2*(2))) * sum_part) )\n"
     ]
    },
    {
     "name": "stdout",
     "output_type": "stream",
     "text": [
      "2.55 s ± 335 ms per loop (mean ± std. dev. of 100 runs, 1 loop each)\n"
     ]
    }
   ],
   "source": [
    "np.random.seed(10)\n",
    "%timeit -n 1 -r 100  values = posterior_calc(prior_mu,data)"
   ]
  },
  {
   "cell_type": "markdown",
   "id": "f6f5a9f3-97a3-4b6e-965f-686f9defdc5d",
   "metadata": {
    "jp-MarkdownHeadingCollapsed": true
   },
   "source": [
    "# Time comparisons beetween normal code and GPU accelarated code for the calculation of a likelihood for a normal likelihood with a fixed variance and a normal prior for the mean"
   ]
  },
  {
   "cell_type": "markdown",
   "id": "c6149505-1b34-4194-a8ea-2b1fb970c7da",
   "metadata": {
    "jp-MarkdownHeadingCollapsed": true
   },
   "source": [
    "## Data"
   ]
  },
  {
   "cell_type": "code",
   "execution_count": 4,
   "id": "93ddb501-979a-46f9-a9c9-174936fffb24",
   "metadata": {},
   "outputs": [],
   "source": [
    "from numba import cuda, float32\n",
    "import numpy as np\n",
    "import math\n",
    "from numba import cuda, float32\n",
    "np.random.seed(10)\n",
    "\n",
    "# data and parameters used in both functions\n",
    "num_particles = 10240   # Number of particles\n",
    "sigma = np.float32(2.0)    # Known standard deviation of the data\n",
    "\n",
    "# Initialize particles and weights\n",
    "prior_mu = np.float32(0.0); prior_sigma = np.float32(3.0)   # Prior mean and standard deviation\n",
    "particles = np.random.normal(prior_mu, prior_sigma, num_particles).astype(np.float32)  # Sample from the prior distribution\n",
    "\n",
    "# Generate synthetic data\n",
    "true_mu = np.float32(5.0); sigma = np.float32(2.0)    # Known mean and standard deviation of the data\n",
    "n_data = 32       # Number of data points\n",
    "data = np.array(np.random.normal(true_mu, sigma, n_data),dtype=np.float32)\n",
    "\n",
    "###################\n",
    "# CUDA parameters #\n",
    "threads = 256\n",
    "blocks = 40\n",
    "# -----------\n",
    "# CUDA arrays\n",
    "d_data = cuda.to_device(np.array(data,dtype=np.float32))\n",
    "d_particles = cuda.to_device(np.array(particles ,dtype = np.float32))\n",
    "d_out = cuda.device_array_like(d_particles)\n",
    "# -----------\n",
    "###################"
   ]
  },
  {
   "cell_type": "markdown",
   "id": "b9fa683d-9c03-4c45-9155-d56b17d07bf2",
   "metadata": {
    "jp-MarkdownHeadingCollapsed": true
   },
   "source": [
    "## Cuda numba code (likelihood calc)"
   ]
  },
  {
   "cell_type": "code",
   "execution_count": 5,
   "id": "b634d067-0b10-44f5-9063-40144423e095",
   "metadata": {},
   "outputs": [],
   "source": [
    "from numba import cuda, float32\n",
    "\n",
    "@cuda.jit\n",
    "def likelihood_calc(prior_sigma,prior_mu,sigma,mu,data,out):\n",
    "    start = cuda.grid(1)\n",
    "    stride = cuda.gridsize(1)\n",
    "    \n",
    "    #likelihood = cuda.shared.array(shape=(1,),dtype = np.float64)\n",
    "    sum_part = cuda.shared.array(shape=(num_particles,),dtype = np.float32)\n",
    "    \n",
    "    value = cuda.shared.array(shape=(1,),dtype = np.float32)\n",
    "\n",
    "    for i in range(0,data.shape[0]):\n",
    "        value[0] = ((data[i]-mu[start])/sigma)**2\n",
    "        cuda.atomic.add(sum_part, start, value[0])\n",
    "        \n",
    "    # likelihood fucntion \n",
    "    out[start] = ((1/(sigma*math.sqrt(2*math.pi)))**data.shape[0]) * math.exp(-0.5*sum_part[start])"
   ]
  },
  {
   "cell_type": "code",
   "execution_count": 7,
   "id": "dd722822-a4d8-433a-b2da-e091b139f2d6",
   "metadata": {
    "scrolled": true
   },
   "outputs": [
    {
     "name": "stdout",
     "output_type": "stream",
     "text": [
      "The slowest run took 220.06 times longer than the fastest. This could mean that an intermediate result is being cached.\n",
      "159 μs ± 810 μs per loop (mean ± std. dev. of 1000 runs, 1 loop each)\n"
     ]
    }
   ],
   "source": [
    "%timeit -n 1 -r 1000 likelihood_calc[blocks, threads](prior_sigma, prior_mu, sigma, d_particles,d_data,d_out)"
   ]
  },
  {
   "cell_type": "markdown",
   "id": "a6e39fda-4333-4a49-8636-106d6fcf09c0",
   "metadata": {
    "jp-MarkdownHeadingCollapsed": true
   },
   "source": [
    "## Normal code (likelihood calc)"
   ]
  },
  {
   "cell_type": "code",
   "execution_count": 8,
   "id": "85a6bb30-6ebd-49f1-98df-3f9abfd1c21b",
   "metadata": {},
   "outputs": [],
   "source": [
    "import numpy as np\n",
    "import matplotlib.pyplot as plt\n",
    "from scipy.stats import norm\n",
    "np.random.seed(10)\n",
    "\n",
    "# Define the likelihood function (normal distribution)\n",
    "def likelihood(y, mu, sigma):\n",
    "    return np.prod(np.exp(-0.5 * ((y - mu) / sigma)**2) / (sigma * np.sqrt(2 * np.pi)))\n",
    "\n",
    "def main(data,particles,sigma):\n",
    "    likelihood_v = np.array([likelihood(data, theta, sigma) for theta in particles])\n",
    "    return(likelihood_v)"
   ]
  },
  {
   "cell_type": "code",
   "execution_count": 9,
   "id": "0b011aff-897e-49c5-88d2-f2defc3fc684",
   "metadata": {},
   "outputs": [
    {
     "name": "stdout",
     "output_type": "stream",
     "text": [
      "175 ms ± 57.5 ms per loop (mean ± std. dev. of 1000 runs, 1 loop each)\n"
     ]
    }
   ],
   "source": [
    "%timeit -n 1 -r 1000 main(data,particles,sigma)"
   ]
  },
  {
   "cell_type": "code",
   "execution_count": 6,
   "id": "530bbab5-c929-44be-8b19-8e8984e47e1e",
   "metadata": {},
   "outputs": [],
   "source": [
    "x_values = np.array([1024,2048,4096,8192,10240])\n",
    "\n",
    "gpu_mean = np.array([0.140,0.112,0.137,0.091,0.159])\n",
    "gpu_std = np.array([0.675,0.261,0.660,0.409,0.810])\n",
    "\n",
    "normal_mean = np.array([15.1,32,65.8,127,175])\n",
    "normal_std = np.array([4.6,9.91,18.4,32.9,57.5])"
   ]
  },
  {
   "cell_type": "markdown",
   "id": "f4e72de2-7cfd-4f8b-b590-c0d52f9dce04",
   "metadata": {
    "jp-MarkdownHeadingCollapsed": true
   },
   "source": [
    "## graphs"
   ]
  },
  {
   "cell_type": "code",
   "execution_count": 20,
   "id": "004c5895-932a-44ad-a337-d30b6954061d",
   "metadata": {},
   "outputs": [
    {
     "data": {
      "image/png": "[encoded data removed]",
      "text/plain": [
       "<Figure size 1000x600 with 1 Axes>"
      ]
     },
     "metadata": {},
     "output_type": "display_data"
    }
   ],
   "source": [
    "import numpy as np\n",
    "import pandas as pd\n",
    "import seaborn as sns\n",
    "import matplotlib.pyplot as plt\n",
    "\n",
    "# Data\n",
    "x_values = np.array([1024, 2048, 4096, 8192, 10240])\n",
    "gpu_mean = np.array([0.140, 0.112, 0.137, 0.091, 0.159])\n",
    "normal_mean = np.array([15.1, 32, 65.8, 127, 175])\n",
    "\n",
    "# Create a DataFrame for Seaborn\n",
    "data = pd.DataFrame({\n",
    "    'x_values': np.concatenate([x_values, x_values]),\n",
    "    'Mean': np.concatenate([gpu_mean, normal_mean]),\n",
    "    'Type': ['GPU'] * len(x_values) + ['Normal'] * len(x_values)\n",
    "})\n",
    "\n",
    "# Plot using Seaborn\n",
    "plt.figure(figsize=(10, 6))\n",
    "sns.lineplot(x='x_values', y='Mean', hue='Type', data=data, marker='o')\n",
    "\n",
    "# Add labels and title\n",
    "plt.xlabel('x_values')\n",
    "plt.ylabel('Mean Time')\n",
    "plt.title('Comparison of GPU and Normal Mean Times')\n",
    "plt.xticks(x_values)  # Set x-axis ticks to x_values\n",
    "plt.grid(True)\n",
    "\n",
    "# Show the plot\n",
    "plt.show()"
   ]
  },
  {
   "cell_type": "code",
   "execution_count": 17,
   "id": "6f26b999-ff53-4db4-bf98-c4328a0b4201",
   "metadata": {},
   "outputs": [
    {
     "data": {
      "text/plain": [
       "array([0.00000000e+00, 2.00020002e-02, 4.00040004e-02, ...,\n",
       "       1.99959996e+02, 1.99979998e+02, 2.00000000e+02])"
      ]
     },
     "execution_count": 17,
     "metadata": {},
     "output_type": "execute_result"
    }
   ],
   "source": [
    "  # Range of x values"
   ]
  },
  {
   "cell_type": "markdown",
   "id": "f5662af2-c578-438f-b338-b2c1e978fbf3",
   "metadata": {
    "jp-MarkdownHeadingCollapsed": true
   },
   "source": [
    "# (2) Time comparisons beetween normal code and GPU accelarated code for the calculation of a posteriori for a normal likelihood with a fixed variance and a normal prior for the mean with the Metropolis-Hastings algorithm"
   ]
  },
  {
   "cell_type": "markdown",
   "id": "1afd8f22-cb70-4e8d-9774-7d64bb552ff0",
   "metadata": {
    "jp-MarkdownHeadingCollapsed": true
   },
   "source": [
    "## Normal code"
   ]
  },
  {
   "cell_type": "code",
   "execution_count": 28,
   "id": "00e5158f-aa1e-4687-9286-9fccea9ddcda",
   "metadata": {},
   "outputs": [
    {
     "name": "stderr",
     "output_type": "stream",
     "text": [
      "<>:76: SyntaxWarning: invalid escape sequence '\\m'\n",
      "<>:76: SyntaxWarning: invalid escape sequence '\\m'\n",
      "/tmp/ipykernel_4282/3445902902.py:76: SyntaxWarning: invalid escape sequence '\\m'\n",
      "  plt.xlabel('$\\mu$')\n"
     ]
    },
    {
     "data": {
      "image/png": "[encoded data removed]",
      "text/plain": [
       "<Figure size 1000x600 with 1 Axes>"
      ]
     },
     "metadata": {},
     "output_type": "display_data"
    }
   ],
   "source": [
    "import numpy as np\n",
    "import matplotlib.pyplot as plt\n",
    "\n",
    "# Define the likelihood function (normal distribution)\n",
    "def likelihood(y, mu, sigma):\n",
    "    return np.prod(np.exp(-0.5 * ((y - mu) / sigma)**2) / (sigma * np.sqrt(2 * np.pi)))\n",
    "\n",
    "# Define the prior function (normal distribution)\n",
    "def prior(mu, mu_0, tau_0):\n",
    "    return np.exp(-0.5 * ((mu - mu_0) / tau_0)**2) / (tau_0 * np.sqrt(2 * np.pi))\n",
    "\n",
    "# Define the posterior function (up to a normalizing constant)\n",
    "def posterior(y, mu, sigma, mu_0, tau_0):\n",
    "    return likelihood(y, mu, sigma) * prior(mu, mu_0, tau_0)\n",
    "\n",
    "# Metropolis-Hastings algorithm\n",
    "def metropolis_hastings(y, sigma, mu_0, tau_0, n_samples, initial_state, proposal_std):\n",
    "    samples = []\n",
    "    current_state = initial_state\n",
    "    \n",
    "    for _ in range(n_samples):\n",
    "        # Propose a new state from a symmetric normal distribution\n",
    "        proposed_state = np.random.normal(current_state, proposal_std)\n",
    "        \n",
    "        # Compute acceptance probability\n",
    "        acceptance_ratio = posterior(y, proposed_state, sigma, mu_0, tau_0) / posterior(y, current_state, sigma, mu_0, tau_0)\n",
    "        acceptance_prob = min(1, acceptance_ratio)\n",
    "        \n",
    "        # Accept or reject the proposal\n",
    "        if np.random.rand() < acceptance_prob:\n",
    "            current_state = proposed_state\n",
    "        \n",
    "        # Save the current state\n",
    "        samples.append(current_state)\n",
    "    \n",
    "    return np.array(samples)\n",
    "\n",
    "# Generate synthetic data\n",
    "np.random.seed(10)\n",
    "true_mu = 5.0  # True mean\n",
    "sigma = 2.0    # Known standard deviation of the data\n",
    "n = 128      # Number of data points\n",
    "y = np.random.normal(true_mu, sigma, n)\n",
    "\n",
    "# Prior parameters\n",
    "mu_0 = 0.0     # Prior mean\n",
    "tau_0 = 3.0    # Prior standard deviation\n",
    "\n",
    "# Metropolis-Hastings parameters\n",
    "n_samples = 10000     # Number of samples to generate\n",
    "initial_state = 0.0    # Initial state\n",
    "proposal_std = 1.0     # Standard deviation of the proposal distribution\n",
    "\n",
    "# Run the algorithm\n",
    "samples = metropolis_hastings(y, sigma, mu_0, tau_0, n_samples, initial_state, proposal_std)\n",
    "\n",
    "# Plot the results\n",
    "plt.figure(figsize=(10, 6))\n",
    "plt.hist(samples, bins=50, density=True, alpha=0.6, color='g', label='Posterior Samples')\n",
    "\n",
    "# Plot the true posterior (for comparison)\n",
    "# The true posterior is a normal distribution:\n",
    "# p(mu | y) ~ N(mu_n, tau_n^2), where:\n",
    "# mu_n = (mu_0 / tau_0^2 + n * y_bar / sigma^2) / (1 / tau_0^2 + n / sigma^2)\n",
    "# tau_n^2 = 1 / (1 / tau_0^2 + n / sigma^2)\n",
    "y_bar = np.mean(y)\n",
    "mu_n = (mu_0 / tau_0**2 + n * y_bar / sigma**2) / (1 / tau_0**2 + n / sigma**2)\n",
    "tau_n = np.sqrt(1 / (1 / tau_0**2 + n / sigma**2))\n",
    "\n",
    "# Plot the true posterior\n",
    "x_values = np.linspace(mu_n - 4 * tau_n, mu_n + 4 * tau_n, 1000)\n",
    "true_posterior = np.exp(-0.5 * ((x_values - mu_n) / tau_n)**2) / (tau_n * np.sqrt(2 * np.pi))\n",
    "plt.plot(x_values, true_posterior, 'r-', label='True Posterior')\n",
    "\n",
    "plt.title('Metropolis-Hastings Sampling for Normal Likelihood with Normal Prior')\n",
    "plt.xlabel('$\\mu$')\n",
    "plt.ylabel('Density')\n",
    "plt.legend()\n",
    "plt.show()"
   ]
  },
  {
   "cell_type": "code",
   "execution_count": 47,
   "id": "6acf4a28-8dbe-4d6b-909c-09bcd2f34b3b",
   "metadata": {},
   "outputs": [
    {
     "name": "stdout",
     "output_type": "stream",
     "text": [
      "337 ms ± 58.1 ms per loop (mean ± std. dev. of 100 runs, 1 loop each)\n"
     ]
    }
   ],
   "source": [
    "# Run the algorithm\n",
    "%timeit -n 1 -r 100 metropolis_hastings(y, sigma, mu_0, tau_0, n_samples, initial_state, proposal_std)"
   ]
  },
  {
   "cell_type": "markdown",
   "id": "630af046-da5d-4143-8c0f-56bc31443b80",
   "metadata": {
    "jp-MarkdownHeadingCollapsed": true
   },
   "source": [
    "# (3) Time comparisons beetween normal code and GPU accelarated code for the calculation of a posteriori for a normal likelihood with a fixed variance and a normal prior for the mean with the Sequential Monte Carlo (SMC), also known as particle filtering algorithm"
   ]
  },
  {
   "cell_type": "markdown",
   "id": "84e35fbd-8eb1-457e-8af8-564a0fa3d15b",
   "metadata": {
    "jp-MarkdownHeadingCollapsed": true
   },
   "source": [
    "## Data"
   ]
  },
  {
   "cell_type": "code",
   "execution_count": 1,
   "id": "bdbbe26f-e750-4b12-a99b-5c66da4f7d0c",
   "metadata": {},
   "outputs": [],
   "source": [
    "from numba import cuda, float32\n",
    "import numpy as np\n",
    "import math\n",
    "from numba import cuda, float32, float64\n",
    "import matplotlib.pyplot as plt\n",
    "from scipy.stats import norm\n",
    "\n",
    "np.random.seed(10)\n",
    "# SMC parameters\n",
    "num_particles = 10240 #1024  # Number of particles\n",
    "num_iterations = 10  # Number of intermediate distributions\n",
    "resampling_threshold = 0.5 # Resampling threshold (effective sample size fraction)\n",
    "\n",
    "# Generate synthetic data\n",
    "true_mu = np.float32(5.0); sigma = np.float32(2.0)    # Known mean and standard deviation of the data\n",
    "n_data = 32      # Number of data points\n",
    "data = np.array(np.random.normal(true_mu, sigma, n_data),dtype=np.float32)"
   ]
  },
  {
   "cell_type": "markdown",
   "id": "ba1eb1ba-2281-4dc5-9757-9abe28045f21",
   "metadata": {
    "jp-MarkdownHeadingCollapsed": true
   },
   "source": [
    "## Cuda code"
   ]
  },
  {
   "cell_type": "code",
   "execution_count": 11,
   "id": "2d7bf27d-980b-4aaf-a289-f571bf0c459c",
   "metadata": {
    "scrolled": true
   },
   "outputs": [
    {
     "name": "stderr",
     "output_type": "stream",
     "text": [
      "/home/erick/miniconda3/envs/rapids-25.02/lib/python3.12/site-packages/numba_cuda/numba/cuda/dispatcher.py:579: NumbaPerformanceWarning: \u001b[1mGrid size 40 will likely result in GPU under-utilization due to low occupancy.\u001b[0m\n",
      "  warn(NumbaPerformanceWarning(msg))\n",
      "/tmp/ipykernel_16237/1702141879.py:45: RuntimeWarning: divide by zero encountered in log\n",
      "  log_likelihood = np.array(np.log(d_out.copy_to_host()))\n",
      "/tmp/ipykernel_16237/1702141879.py:47: RuntimeWarning: divide by zero encountered in log\n",
      "  log_weights = np.log(weights) + gamma * log_likelihood\n"
     ]
    },
    {
     "data": {
      "image/png": "[encoded data removed]",
      "text/plain": [
       "<Figure size 640x480 with 1 Axes>"
      ]
     },
     "metadata": {},
     "output_type": "display_data"
    }
   ],
   "source": [
    "@cuda.jit\n",
    "def likelihood_calc(prior_sigma,prior_mu,sigma,mu,data,out):\n",
    "    start = cuda.grid(1)\n",
    "    stride = cuda.gridsize(1)\n",
    "    \n",
    "    #likelihood = cuda.shared.array(shape=(1,),dtype = np.float64)\n",
    "    sum_part = cuda.shared.array(shape=(num_particles,),dtype = np.float32)\n",
    "    \n",
    "    value = cuda.shared.array(shape=(1,),dtype = np.float32)\n",
    "\n",
    "    for i in range(0,data.shape[0]):\n",
    "        value[0] = ((data[i]-mu[start])/sigma)**2\n",
    "        cuda.atomic.add(sum_part, start, value[0])\n",
    "        \n",
    "    # likelihood fucntion \n",
    "    out[start] = ((1/(sigma*math.sqrt(2*math.pi)))**data.shape[0]) * math.exp(-0.5*sum_part[start])\n",
    "    \n",
    "# Metropolis-Hastings algorithm\n",
    "def particle_filtering(num_iterations,num_particles,resampling_threshold,data):\n",
    "\n",
    "    sigma = np.float32(2.0)    # Known standard deviation of the data\n",
    "    # Initialize particles and weights\n",
    "    prior_mu = np.float32(0.0); prior_sigma = np.float32(3.0)   # Prior mean and standard deviation\n",
    "    particles = np.random.normal(prior_mu, prior_sigma, num_particles).astype(np.float32)  # Sample from the prior distribution\n",
    "    weights = np.ones(num_particles) / num_particles  # Initial weights\n",
    "\n",
    "    # CUDA arrays\n",
    "    d_data = cuda.to_device(np.array(data,dtype=np.float32))\n",
    "    # -----------\n",
    "    # Compute annealing temperature\n",
    "    for t in range(1,num_iterations+1):\n",
    "        \n",
    "        # CUDA arrays\n",
    "        d_particles = cuda.to_device(np.array(particles ,dtype = np.float32))\n",
    "        d_out = cuda.device_array_like(d_particles)\n",
    "        # -----------\n",
    "        gamma =  t/ num_iterations  # Linearly increasing temperature\n",
    "    \n",
    "        # ---- Cuda function initializaion parametes ----- # \n",
    "        threads = 256 \n",
    "        blocks = 40\n",
    "        # ------------------------------------------------ #\n",
    "        # Update weights\n",
    "        likelihood_calc[blocks, threads](prior_sigma, prior_mu, sigma, d_particles,d_data,d_out)\n",
    "        log_likelihood = np.array(np.log(d_out.copy_to_host()))\n",
    "        \n",
    "        log_weights = np.log(weights) + gamma * log_likelihood\n",
    "        log_weights -= np.max(log_weights)  # Normalize for numerical stability\n",
    "        weights = np.exp(log_weights)\n",
    "        weights /= np.sum(weights)  # Normalize weights\n",
    "\n",
    "        # Effective sample size (ESS)\n",
    "        ess = 1 / np.sum(weights**2)\n",
    "        \n",
    "        # Resampling step (if ESS is too low)\n",
    "        if ess < resampling_threshold * num_particles:\n",
    "            indices = np.random.choice(num_particles, size=num_particles, p=weights)    \n",
    "            particles = particles[indices]\n",
    "            weights = np.ones(num_particles) / num_particles  # Reset weights\n",
    "            \n",
    "        # Propagation step (optional: add noise to particles)\n",
    "        particles += np.random.normal(0, 0.1, num_particles)  # Small random walk\n",
    "        \n",
    "    return particles, weights\n",
    "\n",
    " \n",
    "# Run the algorithm \n",
    "# Final posterior approximation\n",
    "posterior_samples = particle_filtering(num_iterations, num_particles, resampling_threshold, data)\n",
    "\n",
    "# Plot the results\n",
    "plt.hist(posterior_samples[0], bins=50, density=True, alpha=0.6, color='g', label='SMC Posterior')\n",
    "x = np.linspace(-3, 3, 1000)\n",
    "plt.plot(x, norm.pdf(x, loc=true_mu, scale=sigma), 'r-', label='True Posterior')\n",
    "plt.title(\"Sequential Monte Carlo (SMC)\")\n",
    "plt.xlabel(\"Theta\")\n",
    "plt.ylabel(\"Density\")\n",
    "plt.legend()\n",
    "plt.show()"
   ]
  },
  {
   "cell_type": "code",
   "execution_count": 3,
   "id": "4a06324e-bf30-4a25-b1b9-76414741f889",
   "metadata": {},
   "outputs": [
    {
     "name": "stderr",
     "output_type": "stream",
     "text": [
      "/tmp/ipykernel_16237/2357137735.py:45: RuntimeWarning: divide by zero encountered in log\n",
      "  log_likelihood = np.array(np.log(d_out.copy_to_host()))\n",
      "/tmp/ipykernel_16237/2357137735.py:47: RuntimeWarning: divide by zero encountered in log\n",
      "  log_weights = np.log(weights) + gamma * log_likelihood\n"
     ]
    },
    {
     "name": "stdout",
     "output_type": "stream",
     "text": [
      "27.7 ms ± 5.46 ms per loop (mean ± std. dev. of 100 runs, 1 loop each)\n"
     ]
    }
   ],
   "source": [
    "%timeit -n 1 -r 100 particle_filtering(num_iterations, num_particles, resampling_threshold, data)"
   ]
  },
  {
   "cell_type": "markdown",
   "id": "31b4d1ed-c7e3-4a9f-a30d-2711affa2def",
   "metadata": {
    "jp-MarkdownHeadingCollapsed": true
   },
   "source": [
    "## Normal code"
   ]
  },
  {
   "cell_type": "code",
   "execution_count": 4,
   "id": "3e18c16f-2242-44b3-8b17-0b711e7a2a6a",
   "metadata": {
    "scrolled": true
   },
   "outputs": [
    {
     "name": "stderr",
     "output_type": "stream",
     "text": [
      "/tmp/ipykernel_16237/1274791765.py:23: RuntimeWarning: divide by zero encountered in log\n",
      "  log_likelihood = np.array([np.log(likelihood(data, theta, sigma)) for theta in particles])\n",
      "/tmp/ipykernel_16237/1274791765.py:24: RuntimeWarning: divide by zero encountered in log\n",
      "  log_weights = np.log(weights) + gamma * log_likelihood\n"
     ]
    },
    {
     "data": {
      "image/png": "[encoded data removed]",
      "text/plain": [
       "<Figure size 640x480 with 1 Axes>"
      ]
     },
     "metadata": {},
     "output_type": "display_data"
    }
   ],
   "source": [
    "import numpy as np\n",
    "import matplotlib.pyplot as plt\n",
    "from scipy.stats import norm\n",
    "\n",
    "# Define the likelihood function (normal distribution)\n",
    "def likelihood(y, mu, sigma):\n",
    "    return np.prod(np.exp(-0.5 * ((y - mu) / sigma)**2) / (sigma * np.sqrt(2 * np.pi)))\n",
    "\n",
    "def main(data,num_particles,resampling_threshold,sigma):\n",
    "    # Initialize particles and weights\n",
    "    prior_mu = np.float32(0.0); prior_sigma = np.float32(3.0)   # Prior mean and standard deviation\n",
    "    particles = np.random.normal(prior_mu, prior_sigma, num_particles)  # Sample from the prior\n",
    "    weights = np.ones(num_particles) / num_particles  # Initial weights\n",
    "    \n",
    "    # Update weights\n",
    "    \n",
    "    # SMC algorithm\n",
    "    for t in range(1, num_iterations + 1):\n",
    "        # Compute annealing temperature\n",
    "        gamma = t / num_iterations  # Linearly increasing temperature\n",
    "        \n",
    "        # Update weights\n",
    "        log_likelihood = np.array([np.log(likelihood(data, theta, sigma)) for theta in particles])\n",
    "        log_weights = np.log(weights) + gamma * log_likelihood\n",
    "        log_weights -= np.max(log_weights)  # Normalize for numerical stability\n",
    "        weights = np.exp(log_weights)\n",
    "        weights /= np.sum(weights)  # Normalize weights\n",
    "        \n",
    "        # Effective sample size (ESS)\n",
    "        ess = 1 / np.sum(weights**2)\n",
    "        \n",
    "        # Resampling step (if ESS is too low)\n",
    "        if ess < resampling_threshold * num_particles:\n",
    "            indices = np.random.choice(num_particles, size=num_particles, p=weights)\n",
    "            particles = particles[indices]\n",
    "            weights = np.ones(num_particles) / num_particles  # Reset weights\n",
    "    \n",
    "        # Propagation step (optional: add noise to particles)\n",
    "        particles += np.random.normal(0, 0.1, num_particles)  # Small random walk\n",
    "    \n",
    "    # Final posterior approximation\n",
    "    posterior_samples = particles\n",
    "    return posterior_samples, weights\n",
    "\n",
    "posterior_samples = main(data,num_particles,resampling_threshold,sigma)\n",
    "\n",
    "# Plot the results\n",
    "plt.hist(posterior_samples[0], bins=50, density=True, alpha=0.6, color='g', label='SMC Posterior')\n",
    "x = np.linspace(-3, 3, 1000)\n",
    "plt.plot(x, norm.pdf(x, loc=true_mu, scale=sigma), 'r-', label='True Posterior')\n",
    "plt.title(\"Sequential Monte Carlo (SMC)\")\n",
    "plt.xlabel(\"Theta\")\n",
    "plt.ylabel(\"Density\")\n",
    "plt.legend()\n",
    "plt.show()"
   ]
  },
  {
   "cell_type": "code",
   "execution_count": 5,
   "id": "d0549d8e-fc85-49e1-a07d-0d4e50cad583",
   "metadata": {},
   "outputs": [
    {
     "name": "stderr",
     "output_type": "stream",
     "text": [
      "/tmp/ipykernel_16237/1274791765.py:23: RuntimeWarning: divide by zero encountered in log\n",
      "  log_likelihood = np.array([np.log(likelihood(data, theta, sigma)) for theta in particles])\n",
      "/tmp/ipykernel_16237/1274791765.py:24: RuntimeWarning: divide by zero encountered in log\n",
      "  log_weights = np.log(weights) + gamma * log_likelihood\n"
     ]
    },
    {
     "name": "stdout",
     "output_type": "stream",
     "text": [
      "1.42 s ± 64.5 ms per loop (mean ± std. dev. of 100 runs, 1 loop each)\n"
     ]
    }
   ],
   "source": [
    "%timeit -n 1 -r 100 main(num_iterations, num_particles, resampling_threshold, data)"
   ]
  },
  {
   "cell_type": "code",
   "execution_count": null,
   "id": "1e26d4f2-70bb-4811-9ff4-f2a1663155f3",
   "metadata": {},
   "outputs": [],
   "source": [
    "x_values = np.array([1024,2048,4096,8192,10240])\n",
    "\n",
    "gpu_mean = np.array([15,15.3,15.9,21.3,27.7])\n",
    "gpu_std = np.array([4.12,6.11,4.89,3.56,5.46])\n",
    "\n",
    "normal_mean = np.array([158,329,614,1130,1420])\n",
    "normal_std = np.array([31,68.6,125,106,64.5])"
   ]
  },
  {
   "cell_type": "markdown",
   "id": "3f0b8598-9803-43ed-bca1-d72f7b7581e6",
   "metadata": {
    "jp-MarkdownHeadingCollapsed": true
   },
   "source": [
    "# (4) Time comparisons beetween normal code and GPU accelarated code for the calculation of a posteriori for a double normal likelihood."
   ]
  },
  {
   "cell_type": "markdown",
   "id": "8e1582e7-b86b-4d6a-ab23-b08e57ff7150",
   "metadata": {
    "jp-MarkdownHeadingCollapsed": true
   },
   "source": [
    "## Data"
   ]
  },
  {
   "cell_type": "code",
   "execution_count": 1,
   "id": "afc6e53d-565d-443e-907e-7be20f5b5294",
   "metadata": {},
   "outputs": [
    {
     "data": {
      "text/plain": [
       "\"\\n# Plot the histogram of the samples\\nplt.hist(samples, bins=50, density=True, alpha=0.6, color='blue', edgecolor='black')\\n\\n# Overlay the theoretical PDF of the double normal distribution\\nx = np.linspace(-10, 15, 1000)\\nf1 = norm.pdf(x, mu1, sigma1)\\nf2 = norm.pdf(x, mu2, sigma2)\\nf = w * f1 + (1 - w) * f2  # Combined PDF\\nplt.plot(x, f, label='Double Normal PDF', color='red')\\n\\n# Add labels and legend\\nplt.xlabel('x')\\nplt.ylabel('Density')\\nplt.title('Sampling from a Double Normal Distribution')\\nplt.legend()\\n\\n# Show the plot\\nplt.show()\\n\\n\""
      ]
     },
     "execution_count": 1,
     "metadata": {},
     "output_type": "execute_result"
    }
   ],
   "source": [
    "import numpy as np\n",
    "import matplotlib.pyplot as plt\n",
    "from scipy.stats import norm\n",
    "from numba import cuda, float32, float64\n",
    "import math\n",
    "from scipy.stats import invgamma\n",
    "import pandas as pd\n",
    "\n",
    "np.random.seed(10)\n",
    "# SMC parameters\n",
    "num_particles = 8192 #1024  # Number of particles\n",
    "num_iterations = 200  # Number of intermediate distributions\n",
    "resampling_threshold = 0.5 # Resampling threshold (effective sample size fraction)\n",
    "\n",
    "# Parameters for the two normal distributions\n",
    "mu1, sigma1 = 0, 1  # Mean and standard deviation of the first normal distribution\n",
    "mu2, sigma2 = 5, 2  # Mean and standard deviation of the second normal distribution\n",
    "w = 0.6  # Weight of the first normal distribution\n",
    "\n",
    "# Number of samples to generate\n",
    "n_samples = 128\n",
    "\n",
    "# Step 1: Randomly choose which distribution to sample from\n",
    "choices = np.random.choice([0, 1], size=n_samples, p=[w, 1 - w])\n",
    "\n",
    "# Step 2: Sample from the chosen distribution\n",
    "data = np.zeros(n_samples)\n",
    "for i in range(n_samples):\n",
    "    if choices[i] == 0:\n",
    "        data[i] = np.random.normal(mu1, sigma1)  # Sample from the first distribution\n",
    "    else:\n",
    "        data[i] = np.random.normal(mu2, sigma2)  # Sample from the second distribution\n",
    "\n",
    "data = data.astype(np.float32)\n",
    "\n",
    "###################\n",
    "\n",
    "##############################################################################################################\n",
    "# ---------------------------------------------------------------------------------------------------------- #\n",
    "##############################################################################################################\n",
    "\n",
    "\"\"\"\n",
    "# Plot the histogram of the samples\n",
    "plt.hist(samples, bins=50, density=True, alpha=0.6, color='blue', edgecolor='black')\n",
    "\n",
    "# Overlay the theoretical PDF of the double normal distribution\n",
    "x = np.linspace(-10, 15, 1000)\n",
    "f1 = norm.pdf(x, mu1, sigma1)\n",
    "f2 = norm.pdf(x, mu2, sigma2)\n",
    "f = w * f1 + (1 - w) * f2  # Combined PDF\n",
    "plt.plot(x, f, label='Double Normal PDF', color='red')\n",
    "\n",
    "# Add labels and legend\n",
    "plt.xlabel('x')\n",
    "plt.ylabel('Density')\n",
    "plt.title('Sampling from a Double Normal Distribution')\n",
    "plt.legend()\n",
    "\n",
    "# Show the plot\n",
    "plt.show()\n",
    "\n",
    "\"\"\""
   ]
  },
  {
   "cell_type": "markdown",
   "id": "af927990-2529-4796-bb55-b7074af1bde1",
   "metadata": {
    "jp-MarkdownHeadingCollapsed": true
   },
   "source": [
    "## Normal code"
   ]
  },
  {
   "cell_type": "code",
   "execution_count": 4,
   "id": "87b7111d-09ac-439a-9b5e-0638bfad9f84",
   "metadata": {},
   "outputs": [
    {
     "name": "stderr",
     "output_type": "stream",
     "text": [
      "/tmp/ipykernel_33814/1151830895.py:26: RuntimeWarning: divide by zero encountered in log\n",
      "  log_likelihood = np.sum(np.log(mixture_pdf)).astype(np.float32)\n"
     ]
    },
    {
     "name": "stdout",
     "output_type": "stream",
     "text": [
      "[4.83291195e-025 9.87759209e-020 2.16019913e-026 ... 8.05332696e-136\n",
      " 3.33838310e-141 8.36934488e-016]\n",
      "[1.39895872e-04 1.96926897e-04 5.68068803e-08 ... 3.84347308e-05\n",
      " 1.44736105e-04 5.73522163e-04]\n"
     ]
    },
    {
     "name": "stderr",
     "output_type": "stream",
     "text": [
      "/tmp/ipykernel_33814/1151830895.py:26: RuntimeWarning: invalid value encountered in log\n",
      "  log_likelihood = np.sum(np.log(mixture_pdf)).astype(np.float32)\n"
     ]
    },
    {
     "name": "stdout",
     "output_type": "stream",
     "text": [
      "[nan nan nan ... nan nan nan]\n",
      "[nan nan nan ... nan nan nan]\n"
     ]
    }
   ],
   "source": [
    "import numpy as np\n",
    "from scipy.stats import norm\n",
    "from scipy.stats import invgamma\n",
    "\n",
    "def double_normal_log_likelihood_1(X, mu1, sigma1, mu2, sigma2, w):\n",
    "    \"\"\"\n",
    "    Compute the log-likelihood of a double normal distribution.\n",
    "\n",
    "    Parameters:\n",
    "        X (array-like): The observed data.\n",
    "        mu1, sigma1 (float): Parameters of the first normal distribution.\n",
    "        mu2, sigma2 (float): Parameters of the second normal distribution.\n",
    "        w (float): Weight of the first normal distribution (0 <= w <= 1).\n",
    "\n",
    "    Returns:\n",
    "        float: The log-likelihood value.\n",
    "    \"\"\"\n",
    "    # Compute the PDFs of the two normal distributions\n",
    "    f1 = np.exp(-0.5 * ((X - mu1) / sigma1)**2) / (sigma1 * np.sqrt(2 * np.pi))\n",
    "    f2 = np.exp(-0.5 * ((X - mu2) / sigma2)**2) / (sigma2 * np.sqrt(2 * np.pi))\n",
    "\n",
    "    # Compute the mixture PDF\n",
    "    mixture_pdf = w * f1 + (1 - w) * f2\n",
    "\n",
    "    # Compute the log-likelihood\n",
    "    log_likelihood = np.sum(np.log(mixture_pdf)).astype(np.float32)\n",
    "\n",
    "    return log_likelihood\n",
    "\n",
    "from numba import cuda, float32\n",
    "\n",
    "\n",
    "def main(data,num_particles,resampling_threshold,mu1,sigma1,mu2,sigma2,w):\n",
    "\n",
    "    #############################\n",
    "    # priors for the parameters #\n",
    "    # mu1 \n",
    "    prior_mean1 = np.float32(0.0); prior_std1 = np.float32(3.0)  # prior mean and sigma for the mu1 as a normal distribuion\n",
    "    particles_mu1 = np.random.normal(prior_mean1, prior_std1, num_particles)  # Sample from the prior\n",
    "\n",
    "    # simga1 \n",
    "    alpha = np.float32(3.0) ; beta =  np.float32(2.0) # Shape parameter and Scale parameter\n",
    "    particles_sigma1 = invgamma.rvs(a=alpha, scale=beta, size=num_particles)  # Sample from the prior\n",
    "\n",
    "    # mu1 \n",
    "    prior_mean2 = np.float32(1.0); prior_std2 = np.float32(3.0)  # prior mean and sigma for the mu1 as a normal distribuion\n",
    "    particles_mu2 = np.random.normal(prior_mean2, prior_std2, num_particles)  # Sample from the prior\n",
    "\n",
    "    # simga1 \n",
    "    alpha2 = np.float32(3.0) ; beta2 = np.float32(2.0) # Shape parameter and Scale parameter\n",
    "    particles_sigma2 = invgamma.rvs(a=alpha2, scale=beta2, size=num_particles)  # Sample from the prior\n",
    "\n",
    "    # w \n",
    "    particles_w = np.random.uniform(0, 1, num_particles)\n",
    "    \n",
    "    #############################\n",
    "    \n",
    "    # Initialize particles and weights   \n",
    "    weights = np.ones(num_particles) / num_particles  # Initial weights\n",
    "    \n",
    "    # Update weights\n",
    "\n",
    "    # SMC algorithm\n",
    "    for t in range(1, num_iterations + 1):\n",
    "        # Compute annealing temperature\n",
    "        gamma = t / num_iterations  # Linearly increasing temperature\n",
    "        \n",
    "        # Update weights\n",
    "        log_likelihood = np.array([(double_normal_log_likelihood_1(data, particles_mu1[i],particles_sigma1[i],particles_mu2[i],particles_sigma2[i],particles_w[i])) for i in range(0,num_particles)])\n",
    "        log_weights = np.log(weights) + gamma * log_likelihood\n",
    "        log_weights -= np.max(log_weights)  # Normalize for numerical stability\n",
    "        weights = np.exp(log_weights)\n",
    "        weights /= np.sum(weights)  # Normalize weights\n",
    "\n",
    "        print(weights)\n",
    "        \n",
    "        # Effective sample size (ESS)\n",
    "        ess = 1 / np.sum(weights**2)\n",
    "        \n",
    "        # Resampling step (if ESS is too low)\n",
    "        if ess < resampling_threshold * num_particles:\n",
    "            indices = np.random.choice(num_particles, size=num_particles, p=weights)\n",
    "            particles_mu1 = particles_mu1[indices]\n",
    "            particles_sigma1 = particles_sigma1[indices]\n",
    "            particles_mu2 = particles_mu2[indices]\n",
    "            particles_sigma2 = particles_sigma2[indices]\n",
    "            particles_w = particles_w[indices]\n",
    "            \n",
    "            weights = np.ones(num_particles) / num_particles  # Reset weights\n",
    "    \n",
    "        # Propagation step (optional: add noise to particles)\n",
    "        particles_mu1 += np.random.normal(0, 0.1, num_particles)  # Small random walk\n",
    "        particles_sigma1 += np.random.normal(0, 0.1, num_particles)  # Small random walk\n",
    "        particles_mu2 += np.random.normal(0, 0.1, num_particles)  # Small random walk\n",
    "        particles_sigma2 += np.random.normal(0, 0.1, num_particles)  # Small random walk\n",
    "        \n",
    "    # Final posterior approximation\n",
    "    posterior_samples = pd.DataFrame({\n",
    "        \"mu1\":particles_mu1,\n",
    "        \"sigma1\":particles_sigma1,\n",
    "        \"mu2\":particles_mu2,\n",
    "        \"sigma2\":particles_sigma2,\n",
    "        \"w\":particles_w\n",
    "    })\n",
    "\n",
    "    return posterior_samples, weights\n",
    "\n",
    "posterior_samples_normal = main(data,num_particles,resampling_threshold,mu1,sigma1,mu2,sigma2,w)"
   ]
  },
  {
   "cell_type": "code",
   "execution_count": 25,
   "id": "13e1529e-3408-4602-849d-acb92a3db012",
   "metadata": {},
   "outputs": [
    {
     "ename": "NameError",
     "evalue": "name 'posterior_samples_normal' is not defined",
     "output_type": "error",
     "traceback": [
      "\u001b[31m---------------------------------------------------------------------------\u001b[39m",
      "\u001b[31mNameError\u001b[39m                                 Traceback (most recent call last)",
      "\u001b[36mCell\u001b[39m\u001b[36m \u001b[39m\u001b[32mIn[25]\u001b[39m\u001b[32m, line 2\u001b[39m\n\u001b[32m      1\u001b[39m \u001b[38;5;66;03m# Plot the results\u001b[39;00m\n\u001b[32m----> \u001b[39m\u001b[32m2\u001b[39m plt.hist((\u001b[43mposterior_samples_normal\u001b[49m[\u001b[32m0\u001b[39m])[\u001b[33m\"\u001b[39m\u001b[33mw\u001b[39m\u001b[33m\"\u001b[39m], bins=\u001b[32m50\u001b[39m, density=\u001b[38;5;28;01mTrue\u001b[39;00m, alpha=\u001b[32m0.6\u001b[39m, color=\u001b[33m'\u001b[39m\u001b[33mg\u001b[39m\u001b[33m'\u001b[39m, label=\u001b[33m'\u001b[39m\u001b[33mSMC Posterior\u001b[39m\u001b[33m'\u001b[39m)\n\u001b[32m      3\u001b[39m x = np.linspace(-\u001b[32m3\u001b[39m, \u001b[32m3\u001b[39m, \u001b[32m1000\u001b[39m)\n\u001b[32m      4\u001b[39m plt.title(\u001b[33m\"\u001b[39m\u001b[33mSequential Monte Carlo (SMC)\u001b[39m\u001b[33m\"\u001b[39m)\n",
      "\u001b[31mNameError\u001b[39m: name 'posterior_samples_normal' is not defined"
     ]
    }
   ],
   "source": [
    "# Plot the results\n",
    "plt.hist((posterior_samples_normal[0])[\"w\"], bins=50, density=True, alpha=0.6, color='g', label='SMC Posterior')\n",
    "x = np.linspace(-3, 3, 1000)\n",
    "plt.title(\"Sequential Monte Carlo (SMC)\")\n",
    "plt.xlabel(\"Theta\")\n",
    "plt.ylabel(\"Density\")\n",
    "plt.legend()\n",
    "plt.show()"
   ]
  },
  {
   "cell_type": "markdown",
   "id": "23454f35-aebf-44a7-9caa-a2776d5274c6",
   "metadata": {
    "jp-MarkdownHeadingCollapsed": true
   },
   "source": [
    "## GPU code"
   ]
  },
  {
   "cell_type": "code",
   "execution_count": 4,
   "id": "fec070ce-c953-4d50-ab5e-d03e85d533c3",
   "metadata": {},
   "outputs": [
    {
     "name": "stderr",
     "output_type": "stream",
     "text": [
      "/home/erick/miniconda3/envs/rapids-25.02/lib/python3.12/site-packages/numba_cuda/numba/cuda/dispatcher.py:579: NumbaPerformanceWarning: \u001b[1mGrid size 32 will likely result in GPU under-utilization due to low occupancy.\u001b[0m\n",
      "  warn(NumbaPerformanceWarning(msg))\n",
      "/tmp/ipykernel_36035/191771547.py:85: RuntimeWarning: divide by zero encountered in log\n",
      "  log_weights = np.log(weights) + gamma * log_likelihood\n"
     ]
    }
   ],
   "source": [
    "@cuda.jit\n",
    "def double_normal_log_likelihood(data,mu1,sigma1,mu2,sigma2,w,out):\n",
    "    start = cuda.grid(1)\n",
    "    stride = cuda.gridsize(1)\n",
    "    \n",
    "    ##############################\n",
    "    # sum for the log likelihood #\n",
    "    log_likelihood = cuda.shared.array(shape=(num_particles,),dtype = np.float32)\n",
    "    f_1 = cuda.shared.array(shape=(1,),dtype = np.float32)\n",
    "    f_2 = cuda.shared.array(shape=(1,),dtype = np.float32)\n",
    "    mix = cuda.shared.array(shape=(1,),dtype = np.float32)\n",
    "    \n",
    "    for i in range(0,data.shape[0]):\n",
    "        f_1[0] =  w[start] * math.exp(-0.5 * ((data[i] - mu1[start])/ sigma1[start])**2 ) / (math.sqrt(2*math.pi*(sigma1[start]**2))) \n",
    "        f_2[0] = (1 - w[start]) * math.exp(-0.5 * ((data[i] - mu2[start])/ sigma2[start])**2 ) / (math.sqrt(2*math.pi*(sigma2[start]**2)))\n",
    "        mix[0] = math.log(f_1[0] +  f_2[0]) \n",
    "            \n",
    "        cuda.atomic.add(log_likelihood, start, mix[0])\n",
    "        \n",
    "    ##########################\n",
    "   \n",
    "    # likelihood function \n",
    "    out[start] = log_likelihood[start]\n",
    "\n",
    "def main(data,num_particles,resampling_threshold,mu1,sigma1,mu2,sigma2,w):\n",
    "\n",
    "    #############################\n",
    "    # priors for the parameters #\n",
    "    # mu1 \n",
    "    prior_mean1 = np.float32(0.0); prior_std1 = np.float32(3.0)  # prior mean and sigma for the mu1 as a normal distribuion\n",
    "    particles_mu1 = np.random.normal(prior_mean1, prior_std1, num_particles)  # Sample from the prior\n",
    "\n",
    "    # simga1 \n",
    "    alpha = np.float32(3.0) ; beta =  np.float32(2.0) # Shape parameter and Scale parameter\n",
    "    particles_sigma1 = invgamma.rvs(a=alpha, scale=beta, size=num_particles)  # Sample from the prior\n",
    "\n",
    "    # mu1 \n",
    "    prior_mean2 = np.float32(1.0); prior_std2 = np.float32(3.0)  # prior mean and sigma for the mu1 as a normal distribuion\n",
    "    particles_mu2 = np.random.normal(prior_mean2, prior_std2, num_particles)  # Sample from the prior\n",
    "\n",
    "    # simga1 \n",
    "    alpha2 = np.float32(3.0) ; beta2 = np.float32(2.0) # Shape parameter and Scale parameter\n",
    "    particles_sigma2 = invgamma.rvs(a=alpha2, scale=beta2, size=num_particles)  # Sample from the prior\n",
    "\n",
    "    # w \n",
    "    particles_w = np.random.beta(1, 1, num_particles)\n",
    "\n",
    "    # CUDA arrays\n",
    "    d_data = cuda.to_device(np.array(data,dtype=np.float32))\n",
    "    # -----------\n",
    "\n",
    "    #############################\n",
    "    \n",
    "    # Initialize particles and weights   \n",
    "    weights = (np.ones(num_particles) / num_particles).astype(np.float32)  # Initial weights\n",
    "    \n",
    "    # SMC algorithm\n",
    "    for t in range(1, num_iterations + 1):\n",
    "\n",
    "        #print(\"\\n\")\n",
    "        #print(t)\n",
    "        #print(\"\\n\")\n",
    "        \n",
    "        # CUDA arrays\n",
    "        d_particles_mu1 = cuda.to_device(np.array(particles_mu1 ,dtype = np.float32))\n",
    "        d_particles_sigma1 = cuda.to_device(np.array(particles_sigma1 ,dtype = np.float32))\n",
    "        d_particles_mu2 = cuda.to_device(np.array(particles_mu2 ,dtype = np.float32))\n",
    "        d_particles_sigma2 = cuda.to_device(np.array(particles_sigma2 ,dtype = np.float32))\n",
    "        d_particles_w = cuda.to_device(np.array(particles_w ,dtype = np.float32))      \n",
    "        d_out = cuda.device_array_like(d_particles_mu1)\n",
    "        # -----------\n",
    "        \n",
    "        # Compute annealing temperature\n",
    "        gamma = np.float32(t / num_iterations)  # Linearly increasing temperature\n",
    "\n",
    "        # ---- Cuda function initializaion parametes ----- # \n",
    "        threads = 256 \n",
    "        blocks = int(num_particles/threads) #num_particles/threads\n",
    "        # ------------------------------------------------ #\n",
    "        \n",
    "        # Update weights\n",
    "        double_normal_log_likelihood[blocks, threads](d_data, d_particles_mu1, d_particles_sigma1, d_particles_mu2,d_particles_sigma2,d_particles_w,d_out)\n",
    "        log_likelihood = np.array(d_out.copy_to_host())\n",
    "\n",
    "        log_weights = np.log(weights) + gamma * log_likelihood\n",
    "        \n",
    "        log_weights -= np.max(log_weights)  # Normalize for numerical stability\n",
    "        weights = np.exp(log_weights)\n",
    "\n",
    "        weights /= np.sum(weights)  # Normalize weights\n",
    "    \n",
    "        # Effective sample size (ESS)\n",
    "        ess = 1 / np.sum(weights**2)\n",
    "\n",
    "        # Resampling step (if ESS is too low)\n",
    "        if ess < resampling_threshold * num_particles:\n",
    "\n",
    "            #print(\"resampling\")\n",
    "            \n",
    "            indices = np.random.choice(num_particles, size=num_particles, p=weights)\n",
    "            particles_mu1 = particles_mu1[indices]\n",
    "            particles_sigma1 = particles_sigma1[indices]\n",
    "            particles_mu2 = particles_mu2[indices]\n",
    "            particles_sigma2 = particles_sigma2[indices]\n",
    "            particles_w = particles_w[indices]\n",
    "            \n",
    "            weights = (np.ones(num_particles) / num_particles).astype(np.float32)  # Reset weights\n",
    "\n",
    "        # Propagation step (optional: add noise to particles)\n",
    "        particles_mu1 += (np.random.normal(0, 0.01, num_particles)).astype(np.float32)  # Small random walk\n",
    "        particles_sigma1 += (np.random.normal(0, 0.01, num_particles)).astype(np.float32)  # Small random walk\n",
    "        particles_mu2 += (np.random.normal(0, 0.01, num_particles)).astype(np.float32)  # Small random walk\n",
    "        particles_sigma2 += (np.random.normal(0, 0.01, num_particles)).astype(np.float32)  # Small random walk\n",
    "        \n",
    "    # Final posterior approximation\n",
    "    posterior_samples = pd.DataFrame({\n",
    "        \"mu1\":particles_mu1,\n",
    "        \"sigma1\":particles_sigma1,\n",
    "        \"mu2\":particles_mu2,\n",
    "        \"sigma2\":particles_sigma2,\n",
    "        \"w\":particles_w,\n",
    "        \"weights\":weights\n",
    "    })\n",
    "\n",
    "    return posterior_samples\n",
    "\n",
    "posterior_samples_gpu = main(data,num_particles,resampling_threshold,mu1,sigma1,mu2,sigma2,w)"
   ]
  },
  {
   "cell_type": "code",
   "execution_count": 5,
   "id": "1d098f72-4adb-43e2-85da-b8cce5f487f9",
   "metadata": {},
   "outputs": [
    {
     "data": {
      "image/png": "[encoded data removed]",
      "text/plain": [
       "<Figure size 640x480 with 1 Axes>"
      ]
     },
     "metadata": {},
     "output_type": "display_data"
    }
   ],
   "source": [
    "# Plot the results\n",
    "plt.hist((posterior_samples_gpu[\"w\"]), bins=100, density=True, alpha=0.6, color='g', label='SMC Posterior')\n",
    "x = np.linspace(-3, 3, 1000)\n",
    "plt.title(\"Sequential Monte Carlo (SMC)\")\n",
    "plt.xlabel(\"Theta\")\n",
    "plt.ylabel(\"Density\")\n",
    "plt.legend()\n",
    "plt.show()"
   ]
  },
  {
   "cell_type": "code",
   "execution_count": 56,
   "id": "9af8b588-98e0-492e-9b2b-c76231895d2d",
   "metadata": {},
   "outputs": [
    {
     "data": {
      "text/html": [
       "<div>\n",
       "<style scoped>\n",
       "    .dataframe tbody tr th:only-of-type {\n",
       "        vertical-align: middle;\n",
       "    }\n",
       "\n",
       "    .dataframe tbody tr th {\n",
       "        vertical-align: top;\n",
       "    }\n",
       "\n",
       "    .dataframe thead th {\n",
       "        text-align: right;\n",
       "    }\n",
       "</style>\n",
       "<table border=\"1\" class=\"dataframe\">\n",
       "  <thead>\n",
       "    <tr style=\"text-align: right;\">\n",
       "      <th></th>\n",
       "      <th>mu1</th>\n",
       "      <th>sigma1</th>\n",
       "      <th>mu2</th>\n",
       "      <th>sigma2</th>\n",
       "      <th>w</th>\n",
       "      <th>weights</th>\n",
       "    </tr>\n",
       "  </thead>\n",
       "  <tbody>\n",
       "    <tr>\n",
       "      <th>8062</th>\n",
       "      <td>5.454057</td>\n",
       "      <td>1.695427</td>\n",
       "      <td>0.001439</td>\n",
       "      <td>1.021649</td>\n",
       "      <td>0.328349</td>\n",
       "      <td>0.000594</td>\n",
       "    </tr>\n",
       "  </tbody>\n",
       "</table>\n",
       "</div>"
      ],
      "text/plain": [
       "           mu1    sigma1       mu2    sigma2         w   weights\n",
       "8062  5.454057  1.695427  0.001439  1.021649  0.328349  0.000594"
      ]
     },
     "execution_count": 56,
     "metadata": {},
     "output_type": "execute_result"
    }
   ],
   "source": [
    "posterior_samples_gpu[posterior_samples_gpu[\"weights\"] == np.max(posterior_samples_gpu[\"weights\"])]"
   ]
  },
  {
   "cell_type": "code",
   "execution_count": 48,
   "id": "6fadfa7a-8bd6-4e3a-aa7f-c0c71094fa2d",
   "metadata": {},
   "outputs": [
    {
     "data": {
      "text/plain": [
       "array([0.00021283, 0.00014255, 0.00024999, ..., 0.        , 0.        ,\n",
       "       0.        ], dtype=float32)"
      ]
     },
     "execution_count": 48,
     "metadata": {},
     "output_type": "execute_result"
    }
   ],
   "source": [
    "posterior_samples_gpu[1]"
   ]
  },
  {
   "cell_type": "code",
   "execution_count": 16,
   "id": "86b697cd-a05f-4d0f-a92a-80f434dfb8b0",
   "metadata": {},
   "outputs": [
    {
     "data": {
      "text/plain": [
       "array([-0.04067024,  0.03206818,  0.09455619, ...,  0.03114635,\n",
       "        0.04043724,  0.08832488])"
      ]
     },
     "execution_count": 16,
     "metadata": {},
     "output_type": "execute_result"
    }
   ],
   "source": [
    "np.random.uniform(-0.1, 0.1, num_particles)"
   ]
  }
 ],
 "metadata": {
  "kernelspec": {
   "display_name": "Python 3 (ipykernel)",
   "language": "python",
   "name": "python3"
  },
  "language_info": {
   "codemirror_mode": {
    "name": "ipython",
    "version": 3
   },
   "file_extension": ".py",
   "mimetype": "text/x-python",
   "name": "python",
   "nbconvert_exporter": "python",
   "pygments_lexer": "ipython3",
   "version": "3.12.9"
  }
 },
 "nbformat": 4,
 "nbformat_minor": 5
}
