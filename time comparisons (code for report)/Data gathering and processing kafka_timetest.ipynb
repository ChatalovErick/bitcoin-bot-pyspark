{
 "cells": [
  {
   "cell_type": "code",
   "execution_count": 1,
   "id": "1b94e27e-1a83-47ff-bc0d-cb218a7ba171",
   "metadata": {},
   "outputs": [],
   "source": [
    "import pandas as pd\n",
    "import numpy as np\n",
    "from pymongo.mongo_client import MongoClient\n",
    "from datetime import datetime\n",
    "import asyncio\n",
    "import time\n",
    "import math\n",
    "import json\n",
    "import requests\n",
    "import ipaddress\n",
    "import uuid\n",
    "from kafka import KafkaConsumer, KafkaProducer\n",
    "import  sys \n",
    "import six\n",
    "if sys.version_info >= (3, 12, 0):\n",
    "    sys.modules['kafka.vendor.six.moves'] = six.moves\n",
    "\n",
    "def MatchTrades_sliding_window():\n",
    "\n",
    "    obj_MT  = None\n",
    "\n",
    "    response = requests.get(\"https://www.binance.com/api/v1/aggTrades?limit=1&symbol=BTCEUR\").json()\n",
    "\n",
    "    data_MT = {\"timestamp\":response[0][\"T\"],\n",
    "                    \"amount\":response[0][\"q\"],\n",
    "                    \"price\":response[0][\"p\"]}\n",
    "    \n",
    "    # post to kafka #\n",
    "    try:\n",
    "        producer = KafkaProducer(bootstrap_servers=\"localhost:9092\")\n",
    "        producer.send('MatchTrades-data', key=bytes(str(uuid.uuid4()), 'utf-8'), value= bytes( str( json.dumps(data_MT) ),'utf-8' ))\n",
    "        producer.close()\n",
    "    except:\n",
    "        pass\n",
    " \n",
    "    time.sleep(0.01)"
   ]
  },
  {
   "cell_type": "code",
   "execution_count": 2,
   "id": "769a5f60-a388-48eb-99f7-6779c200d6c3",
   "metadata": {},
   "outputs": [
    {
     "name": "stdout",
     "output_type": "stream",
     "text": [
      "458 ms ± 115 ms per loop (mean ± std. dev. of 100 runs, 1 loop each)\n"
     ]
    }
   ],
   "source": [
    "#MatchTrades_binanceAPI()\n",
    "%timeit -n 1 -r 100 MatchTrades_sliding_window()"
   ]
  },
  {
   "cell_type": "code",
   "execution_count": 3,
   "id": "5f2f66cd-6c99-472e-a1a7-1d3a280099d6",
   "metadata": {},
   "outputs": [],
   "source": [
    "import pandas as pd\n",
    "import numpy as np\n",
    "from pymongo.mongo_client import MongoClient\n",
    "from datetime import datetime\n",
    "import asyncio\n",
    "import time\n",
    "import math\n",
    "import json\n",
    "import uuid\n",
    "import asyncio\n",
    "from tokenize import group\n",
    "import requests\n",
    "from kafka import KafkaConsumer, KafkaProducer\n",
    "import  sys \n",
    "import six\n",
    "if sys.version_info >= (3, 12, 0):\n",
    "    sys.modules['kafka.vendor.six.moves'] = six.moves\n",
    "\n",
    "# --------------------------------------------------------------- #\n",
    "# calculate attributes from the lob data\n",
    "# --------------------------------------------------------------- #\n",
    "\n",
    "def lob_data_sliding_window():\n",
    "\n",
    "    try: \n",
    "        response = requests.get(\"https://www.binance.com/api/v3/depth?symbol=BTCEUR&limit=200\").json()\n",
    "        data_LOB = {\"timestamp\":time_now,\n",
    "                    \"bids\":response.get(\"bids\"),\n",
    "                    \"asks\":response.get(\"asks\")}\n",
    "    except:\n",
    "        pass\n",
    "\n",
    "\n",
    "    try:     \n",
    "        # send data throught the kafka stream\n",
    "        producer = KafkaProducer(bootstrap_servers=\"localhost:9092\")\n",
    "        producer.send('Lob-data', key=bytes(str(uuid.uuid4()), 'utf-8'), value= bytes( str( json.dumps(data_LOB) ),'utf-8' ))\n",
    "        producer.close()\n",
    "\n",
    "    except:\n",
    "        pass\n",
    "\n",
    "    time.sleep(0.01)\n",
    "    # ------------- #\n"
   ]
  },
  {
   "cell_type": "code",
   "execution_count": 4,
   "id": "6201788f-c12e-4736-881e-97b629d6164d",
   "metadata": {},
   "outputs": [
    {
     "name": "stdout",
     "output_type": "stream",
     "text": [
      "453 ms ± 127 ms per loop (mean ± std. dev. of 100 runs, 1 loop each)\n"
     ]
    }
   ],
   "source": [
    "%timeit -n 1 -r 100  lob_data_sliding_window()"
   ]
  }
 ],
 "metadata": {
  "kernelspec": {
   "display_name": "Python 3 (ipykernel)",
   "language": "python",
   "name": "python3"
  },
  "language_info": {
   "codemirror_mode": {
    "name": "ipython",
    "version": 3
   },
   "file_extension": ".py",
   "mimetype": "text/x-python",
   "name": "python",
   "nbconvert_exporter": "python",
   "pygments_lexer": "ipython3",
   "version": "3.12.9"
  }
 },
 "nbformat": 4,
 "nbformat_minor": 5
}
